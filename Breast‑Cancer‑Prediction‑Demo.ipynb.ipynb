{
 "cells": [
  {
   "cell_type": "code",
   "execution_count": 40,
   "id": "2bc59e21-ab8d-4e61-b9f5-aba207554b1e",
   "metadata": {},
   "outputs": [],
   "source": [
    "# If packages are missing, uncomment the next line\n",
    "# !pip install pandas numpy scikit-learn matplotlib seaborn joblib shap --quiet\n"
   ]
  },
  {
   "cell_type": "code",
   "execution_count": null,
   "id": "9bc9605b-c059-4cc1-93fd-2fdd226d5e22",
   "metadata": {},
   "outputs": [],
   "source": [
    "#Install packages"
   ]
  },
  {
   "cell_type": "code",
   "execution_count": 3,
   "id": "3cfd02f2-1212-40d7-aea6-e56420198398",
   "metadata": {},
   "outputs": [
    {
     "name": "stdout",
     "output_type": "stream",
     "text": [
      "Defaulting to user installation because normal site-packages is not writeable\n",
      "Requirement already satisfied: shap in c:\\users\\srava\\appdata\\roaming\\python\\python312\\site-packages (0.47.2)\n",
      "Requirement already satisfied: numpy in c:\\programdata\\anaconda3\\lib\\site-packages (from shap) (1.26.4)\n",
      "Requirement already satisfied: scipy in c:\\programdata\\anaconda3\\lib\\site-packages (from shap) (1.13.1)\n",
      "Requirement already satisfied: scikit-learn in c:\\programdata\\anaconda3\\lib\\site-packages (from shap) (1.5.1)\n",
      "Requirement already satisfied: pandas in c:\\programdata\\anaconda3\\lib\\site-packages (from shap) (2.2.2)\n",
      "Requirement already satisfied: tqdm>=4.27.0 in c:\\programdata\\anaconda3\\lib\\site-packages (from shap) (4.66.5)\n",
      "Requirement already satisfied: packaging>20.9 in c:\\programdata\\anaconda3\\lib\\site-packages (from shap) (24.1)\n",
      "Requirement already satisfied: slicer==0.0.8 in c:\\users\\srava\\appdata\\roaming\\python\\python312\\site-packages (from shap) (0.0.8)\n",
      "Requirement already satisfied: numba>=0.54 in c:\\programdata\\anaconda3\\lib\\site-packages (from shap) (0.60.0)\n",
      "Requirement already satisfied: cloudpickle in c:\\programdata\\anaconda3\\lib\\site-packages (from shap) (3.0.0)\n",
      "Requirement already satisfied: typing-extensions in c:\\programdata\\anaconda3\\lib\\site-packages (from shap) (4.11.0)\n",
      "Requirement already satisfied: llvmlite<0.44,>=0.43.0dev0 in c:\\programdata\\anaconda3\\lib\\site-packages (from numba>=0.54->shap) (0.43.0)\n",
      "Requirement already satisfied: colorama in c:\\programdata\\anaconda3\\lib\\site-packages (from tqdm>=4.27.0->shap) (0.4.6)\n",
      "Requirement already satisfied: python-dateutil>=2.8.2 in c:\\programdata\\anaconda3\\lib\\site-packages (from pandas->shap) (2.9.0.post0)\n",
      "Requirement already satisfied: pytz>=2020.1 in c:\\programdata\\anaconda3\\lib\\site-packages (from pandas->shap) (2024.1)\n",
      "Requirement already satisfied: tzdata>=2022.7 in c:\\programdata\\anaconda3\\lib\\site-packages (from pandas->shap) (2023.3)\n",
      "Requirement already satisfied: joblib>=1.2.0 in c:\\programdata\\anaconda3\\lib\\site-packages (from scikit-learn->shap) (1.4.2)\n",
      "Requirement already satisfied: threadpoolctl>=3.1.0 in c:\\programdata\\anaconda3\\lib\\site-packages (from scikit-learn->shap) (3.5.0)\n",
      "Requirement already satisfied: six>=1.5 in c:\\programdata\\anaconda3\\lib\\site-packages (from python-dateutil>=2.8.2->pandas->shap) (1.16.0)\n",
      "Note: you may need to restart the kernel to use updated packages.\n"
     ]
    }
   ],
   "source": [
    "pip install shap"
   ]
  },
  {
   "cell_type": "code",
   "execution_count": null,
   "id": "9adc0a3d-ff7e-41d0-a4bb-da7e193b9f3c",
   "metadata": {},
   "outputs": [],
   "source": [
    "#Imports & settings"
   ]
  },
  {
   "cell_type": "code",
   "execution_count": 4,
   "id": "decf7c22-463f-4800-bdb0-9245daef9272",
   "metadata": {},
   "outputs": [],
   "source": [
    "import pandas as pd\n",
    "import numpy as np\n",
    "from pathlib import Path\n",
    "import matplotlib.pyplot as plt\n",
    "import seaborn as sns\n",
    "import joblib\n",
    "from sklearn.model_selection import GridSearchCV, StratifiedShuffleSplit\n",
    "\n",
    "\n",
    "from sklearn.datasets import load_breast_cancer\n",
    "from sklearn.compose import ColumnTransformer\n",
    "from sklearn.preprocessing import StandardScaler\n",
    "from sklearn.ensemble import RandomForestClassifier\n",
    "from sklearn.model_selection import GridSearchCV, StratifiedShuffleSplit\n",
    "from sklearn.metrics import (\n",
    "    ConfusionMatrixDisplay, RocCurveDisplay,\n",
    "    classification_report, accuracy_score,\n",
    "    precision_recall_fscore_support, roc_auc_score\n",
    ")\n",
    "\n",
    "RANDOM_SEED = 42\n",
    "ARTIFACTS_DIR = Path(\"artifacts\")\n",
    "ARTIFACTS_DIR.mkdir(exist_ok=True)\n"
   ]
  },
  {
   "cell_type": "code",
   "execution_count": null,
   "id": "ac0beecf-f272-4968-8658-3eff762bf7c3",
   "metadata": {},
   "outputs": [],
   "source": [
    "#Point to My data file"
   ]
  },
  {
   "cell_type": "code",
   "execution_count": 5,
   "id": "6ce6c9e5-dd8f-4aba-9409-d55f0ce3625e",
   "metadata": {},
   "outputs": [],
   "source": [
    "DATA_PATH = Path(\n",
    "    r\"C:/Users/srava/Downloads/breast+cancer+wisconsin+diagnostic/\"\n",
    "    r\"breast+cancer+wisconsin+diagnostic/wdbc_data.json\"\n",
    ")\n"
   ]
  },
  {
   "cell_type": "code",
   "execution_count": null,
   "id": "101f1547-a413-4e6d-a4df-ff4b9e0f0b0c",
   "metadata": {},
   "outputs": [],
   "source": [
    "#Utility: list of 30 feature names"
   ]
  },
  {
   "cell_type": "code",
   "execution_count": 6,
   "id": "2eebb370-bfb0-4e2b-a671-794ea2e7f4c6",
   "metadata": {},
   "outputs": [],
   "source": [
    "def wdbc_headers():\n",
    "    base = [\n",
    "        \"radius\", \"texture\", \"perimeter\", \"area\", \"smoothness\",\n",
    "        \"compactness\", \"concavity\", \"concave_points\", \"symmetry\",\n",
    "        \"fractal_dimension\",\n",
    "    ]\n",
    "    suf = [\"_mean\", \"_se\", \"_worst\"]\n",
    "    return [f\"{b}{s}\" for s in suf for b in base]\n"
   ]
  },
  {
   "cell_type": "code",
   "execution_count": null,
   "id": "3a90a29c-37e3-45e9-8a18-3731b2f318ba",
   "metadata": {},
   "outputs": [],
   "source": [
    "#Robust data‑loader"
   ]
  },
  {
   "cell_type": "code",
   "execution_count": 7,
   "id": "de4ba0f1-d3f6-44af-8497-c91d40d7b3fa",
   "metadata": {},
   "outputs": [],
   "source": [
    "def load_wdbc(path: Path | None = None):\n",
    "    \"\"\"\n",
    "    Returns X (DataFrame of 30 features) and y (0=benign, 1=malignant).\n",
    "    Handles JSON or .data/.csv files that come with or without headers.\n",
    "    \"\"\"\n",
    "    headers = wdbc_headers()\n",
    "\n",
    "    if path and path.exists():\n",
    "        # ---- read file ----\n",
    "        if path.suffix.lower() == \".json\":\n",
    "            df = pd.read_json(path)\n",
    "        else:\n",
    "            df = pd.read_csv(\n",
    "                path, header=None,\n",
    "                names=[\"ID\", \"Diagnosis\"] + headers\n",
    "            )\n",
    "\n",
    "        # ---- normalise column names ----\n",
    "        df.columns = [str(c).strip().lower() for c in df.columns]\n",
    "\n",
    "        # ---- auto‑detect label column ----\n",
    "        label_col = None\n",
    "        for col in df.columns:\n",
    "            uniq = set(str(v).strip().lower() for v in df[col].unique())\n",
    "            if uniq.issubset({\"m\", \"b\"}):\n",
    "                label_col = col\n",
    "                break\n",
    "        if label_col is None:\n",
    "            raise ValueError(\"Could not locate Diagnosis column (M/B)\")\n",
    "\n",
    "        # ---- convert labels to 0 / 1 ----\n",
    "        df[label_col] = df[label_col].apply(\n",
    "            lambda v: 1 if str(v).strip().upper() == \"M\" else 0\n",
    "        )\n",
    "\n",
    "        X = df[headers]\n",
    "        y = df[label_col]\n",
    "        return X, y\n",
    "\n",
    "    # ---- fallback to scikit‑learn sample ----\n",
    "    sk = load_breast_cancer(as_frame=True)\n",
    "    return sk.data, sk.target\n"
   ]
  },
  {
   "cell_type": "code",
   "execution_count": null,
   "id": "bbb61e9a-6a99-4bc8-a638-9c4dc1c0e2a3",
   "metadata": {},
   "outputs": [],
   "source": [
    "#Head of the data"
   ]
  },
  {
   "cell_type": "code",
   "execution_count": 8,
   "id": "05b09103-3c7b-4aed-bdc7-6fe7c62950af",
   "metadata": {},
   "outputs": [
    {
     "name": "stdout",
     "output_type": "stream",
     "text": [
      "Shape : (569, 30)\n",
      "Any NaNs in y -> 0\n"
     ]
    },
    {
     "data": {
      "text/plain": [
       "diagnosis\n",
       "0    357\n",
       "1    212\n",
       "Name: count, dtype: int64"
      ]
     },
     "metadata": {},
     "output_type": "display_data"
    },
    {
     "data": {
      "text/html": [
       "<div>\n",
       "<style scoped>\n",
       "    .dataframe tbody tr th:only-of-type {\n",
       "        vertical-align: middle;\n",
       "    }\n",
       "\n",
       "    .dataframe tbody tr th {\n",
       "        vertical-align: top;\n",
       "    }\n",
       "\n",
       "    .dataframe thead th {\n",
       "        text-align: right;\n",
       "    }\n",
       "</style>\n",
       "<table border=\"1\" class=\"dataframe\">\n",
       "  <thead>\n",
       "    <tr style=\"text-align: right;\">\n",
       "      <th></th>\n",
       "      <th>radius_mean</th>\n",
       "      <th>texture_mean</th>\n",
       "      <th>perimeter_mean</th>\n",
       "      <th>area_mean</th>\n",
       "      <th>smoothness_mean</th>\n",
       "      <th>compactness_mean</th>\n",
       "      <th>concavity_mean</th>\n",
       "      <th>concave_points_mean</th>\n",
       "      <th>symmetry_mean</th>\n",
       "      <th>fractal_dimension_mean</th>\n",
       "      <th>...</th>\n",
       "      <th>radius_worst</th>\n",
       "      <th>texture_worst</th>\n",
       "      <th>perimeter_worst</th>\n",
       "      <th>area_worst</th>\n",
       "      <th>smoothness_worst</th>\n",
       "      <th>compactness_worst</th>\n",
       "      <th>concavity_worst</th>\n",
       "      <th>concave_points_worst</th>\n",
       "      <th>symmetry_worst</th>\n",
       "      <th>fractal_dimension_worst</th>\n",
       "    </tr>\n",
       "  </thead>\n",
       "  <tbody>\n",
       "    <tr>\n",
       "      <th>0</th>\n",
       "      <td>17.99</td>\n",
       "      <td>10.38</td>\n",
       "      <td>122.80</td>\n",
       "      <td>1001.0</td>\n",
       "      <td>0.11840</td>\n",
       "      <td>0.27760</td>\n",
       "      <td>0.3001</td>\n",
       "      <td>0.14710</td>\n",
       "      <td>0.2419</td>\n",
       "      <td>0.07871</td>\n",
       "      <td>...</td>\n",
       "      <td>25.38</td>\n",
       "      <td>17.33</td>\n",
       "      <td>184.60</td>\n",
       "      <td>2019.0</td>\n",
       "      <td>0.1622</td>\n",
       "      <td>0.6656</td>\n",
       "      <td>0.7119</td>\n",
       "      <td>0.2654</td>\n",
       "      <td>0.4601</td>\n",
       "      <td>0.11890</td>\n",
       "    </tr>\n",
       "    <tr>\n",
       "      <th>1</th>\n",
       "      <td>20.57</td>\n",
       "      <td>17.77</td>\n",
       "      <td>132.90</td>\n",
       "      <td>1326.0</td>\n",
       "      <td>0.08474</td>\n",
       "      <td>0.07864</td>\n",
       "      <td>0.0869</td>\n",
       "      <td>0.07017</td>\n",
       "      <td>0.1812</td>\n",
       "      <td>0.05667</td>\n",
       "      <td>...</td>\n",
       "      <td>24.99</td>\n",
       "      <td>23.41</td>\n",
       "      <td>158.80</td>\n",
       "      <td>1956.0</td>\n",
       "      <td>0.1238</td>\n",
       "      <td>0.1866</td>\n",
       "      <td>0.2416</td>\n",
       "      <td>0.1860</td>\n",
       "      <td>0.2750</td>\n",
       "      <td>0.08902</td>\n",
       "    </tr>\n",
       "    <tr>\n",
       "      <th>2</th>\n",
       "      <td>19.69</td>\n",
       "      <td>21.25</td>\n",
       "      <td>130.00</td>\n",
       "      <td>1203.0</td>\n",
       "      <td>0.10960</td>\n",
       "      <td>0.15990</td>\n",
       "      <td>0.1974</td>\n",
       "      <td>0.12790</td>\n",
       "      <td>0.2069</td>\n",
       "      <td>0.05999</td>\n",
       "      <td>...</td>\n",
       "      <td>23.57</td>\n",
       "      <td>25.53</td>\n",
       "      <td>152.50</td>\n",
       "      <td>1709.0</td>\n",
       "      <td>0.1444</td>\n",
       "      <td>0.4245</td>\n",
       "      <td>0.4504</td>\n",
       "      <td>0.2430</td>\n",
       "      <td>0.3613</td>\n",
       "      <td>0.08758</td>\n",
       "    </tr>\n",
       "    <tr>\n",
       "      <th>3</th>\n",
       "      <td>11.42</td>\n",
       "      <td>20.38</td>\n",
       "      <td>77.58</td>\n",
       "      <td>386.1</td>\n",
       "      <td>0.14250</td>\n",
       "      <td>0.28390</td>\n",
       "      <td>0.2414</td>\n",
       "      <td>0.10520</td>\n",
       "      <td>0.2597</td>\n",
       "      <td>0.09744</td>\n",
       "      <td>...</td>\n",
       "      <td>14.91</td>\n",
       "      <td>26.50</td>\n",
       "      <td>98.87</td>\n",
       "      <td>567.7</td>\n",
       "      <td>0.2098</td>\n",
       "      <td>0.8663</td>\n",
       "      <td>0.6869</td>\n",
       "      <td>0.2575</td>\n",
       "      <td>0.6638</td>\n",
       "      <td>0.17300</td>\n",
       "    </tr>\n",
       "    <tr>\n",
       "      <th>4</th>\n",
       "      <td>20.29</td>\n",
       "      <td>14.34</td>\n",
       "      <td>135.10</td>\n",
       "      <td>1297.0</td>\n",
       "      <td>0.10030</td>\n",
       "      <td>0.13280</td>\n",
       "      <td>0.1980</td>\n",
       "      <td>0.10430</td>\n",
       "      <td>0.1809</td>\n",
       "      <td>0.05883</td>\n",
       "      <td>...</td>\n",
       "      <td>22.54</td>\n",
       "      <td>16.67</td>\n",
       "      <td>152.20</td>\n",
       "      <td>1575.0</td>\n",
       "      <td>0.1374</td>\n",
       "      <td>0.2050</td>\n",
       "      <td>0.4000</td>\n",
       "      <td>0.1625</td>\n",
       "      <td>0.2364</td>\n",
       "      <td>0.07678</td>\n",
       "    </tr>\n",
       "  </tbody>\n",
       "</table>\n",
       "<p>5 rows × 30 columns</p>\n",
       "</div>"
      ],
      "text/plain": [
       "   radius_mean  texture_mean  perimeter_mean  area_mean  smoothness_mean  \\\n",
       "0        17.99         10.38          122.80     1001.0          0.11840   \n",
       "1        20.57         17.77          132.90     1326.0          0.08474   \n",
       "2        19.69         21.25          130.00     1203.0          0.10960   \n",
       "3        11.42         20.38           77.58      386.1          0.14250   \n",
       "4        20.29         14.34          135.10     1297.0          0.10030   \n",
       "\n",
       "   compactness_mean  concavity_mean  concave_points_mean  symmetry_mean  \\\n",
       "0           0.27760          0.3001              0.14710         0.2419   \n",
       "1           0.07864          0.0869              0.07017         0.1812   \n",
       "2           0.15990          0.1974              0.12790         0.2069   \n",
       "3           0.28390          0.2414              0.10520         0.2597   \n",
       "4           0.13280          0.1980              0.10430         0.1809   \n",
       "\n",
       "   fractal_dimension_mean  ...  radius_worst  texture_worst  perimeter_worst  \\\n",
       "0                 0.07871  ...         25.38          17.33           184.60   \n",
       "1                 0.05667  ...         24.99          23.41           158.80   \n",
       "2                 0.05999  ...         23.57          25.53           152.50   \n",
       "3                 0.09744  ...         14.91          26.50            98.87   \n",
       "4                 0.05883  ...         22.54          16.67           152.20   \n",
       "\n",
       "   area_worst  smoothness_worst  compactness_worst  concavity_worst  \\\n",
       "0      2019.0            0.1622             0.6656           0.7119   \n",
       "1      1956.0            0.1238             0.1866           0.2416   \n",
       "2      1709.0            0.1444             0.4245           0.4504   \n",
       "3       567.7            0.2098             0.8663           0.6869   \n",
       "4      1575.0            0.1374             0.2050           0.4000   \n",
       "\n",
       "   concave_points_worst  symmetry_worst  fractal_dimension_worst  \n",
       "0                0.2654          0.4601                  0.11890  \n",
       "1                0.1860          0.2750                  0.08902  \n",
       "2                0.2430          0.3613                  0.08758  \n",
       "3                0.2575          0.6638                  0.17300  \n",
       "4                0.1625          0.2364                  0.07678  \n",
       "\n",
       "[5 rows x 30 columns]"
      ]
     },
     "metadata": {},
     "output_type": "display_data"
    }
   ],
   "source": [
    "X, y = load_wdbc(DATA_PATH)\n",
    "print(\"Shape :\", X.shape)\n",
    "print(\"Any NaNs in y ->\", y.isna().sum())\n",
    "display(y.value_counts())     # should show 0s and 1s (e.g., 357 / 212)\n",
    "display(X.head())\n"
   ]
  },
  {
   "cell_type": "code",
   "execution_count": null,
   "id": "8fe0374f-1b89-4ffb-ada7-312259b696ae",
   "metadata": {},
   "outputs": [],
   "source": [
    "#Train / val / test split"
   ]
  },
  {
   "cell_type": "code",
   "execution_count": 9,
   "id": "b352060e-4244-480c-ac64-e41bcea062bf",
   "metadata": {},
   "outputs": [
    {
     "name": "stdout",
     "output_type": "stream",
     "text": [
      "Train: (397, 30) | Val: (86, 30) | Test: (86, 30)\n"
     ]
    }
   ],
   "source": [
    "def split_data(X, y, test=0.15, val=0.15):\n",
    "    sss1 = StratifiedShuffleSplit(n_splits=1, test_size=test,\n",
    "                                  random_state=RANDOM_SEED)\n",
    "    train_idx, test_idx = next(sss1.split(X, y))\n",
    "    X_train_val, X_test = X.iloc[train_idx], X.iloc[test_idx]\n",
    "    y_train_val, y_test = y.iloc[train_idx], y.iloc[test_idx]\n",
    "\n",
    "    val_rel = val / (1 - test)\n",
    "    sss2 = StratifiedShuffleSplit(n_splits=1, test_size=val_rel,\n",
    "                                  random_state=RANDOM_SEED)\n",
    "    tr_idx, val_idx = next(sss2.split(X_train_val, y_train_val))\n",
    "\n",
    "    return (\n",
    "        X_train_val.iloc[tr_idx], X_train_val.iloc[val_idx], X_test,\n",
    "        y_train_val.iloc[tr_idx], y_train_val.iloc[val_idx], y_test\n",
    "    )\n",
    "\n",
    "X_tr, X_val, X_te, y_tr, y_val, y_te = split_data(X, y)\n",
    "print(\"Train:\", X_tr.shape, \"| Val:\", X_val.shape, \"| Test:\", X_te.shape)\n"
   ]
  },
  {
   "cell_type": "code",
   "execution_count": null,
   "id": "679247fd-8ca6-4bbb-b934-30d6fe2fb776",
   "metadata": {},
   "outputs": [],
   "source": [
    "#Build preprocessing + model pipeline"
   ]
  },
  {
   "cell_type": "code",
   "execution_count": 10,
   "id": "1e596d2e-fcb8-4217-aaa6-20f1186a30f8",
   "metadata": {},
   "outputs": [],
   "source": [
    "from sklearn.pipeline import Pipeline\n",
    "\n",
    "preprocessor = ColumnTransformer([\n",
    "    (\"num\", Pipeline([(\"scaler\", StandardScaler())]), slice(None))\n",
    "])\n",
    "\n",
    "clf = RandomForestClassifier(random_state=RANDOM_SEED, n_jobs=-1)\n",
    "\n",
    "pipe = Pipeline([(\"pre\", preprocessor), (\"clf\", clf)])\n"
   ]
  },
  {
   "cell_type": "code",
   "execution_count": null,
   "id": "a913e7ec-053b-41b9-89ce-8c73a486aef1",
   "metadata": {},
   "outputs": [],
   "source": [
    "#Hyper‑parameter tuning (GridSearchCV)"
   ]
  },
  {
   "cell_type": "code",
   "execution_count": 11,
   "id": "84d4cb41-efbf-4da1-9dd4-214fe17b625e",
   "metadata": {},
   "outputs": [
    {
     "name": "stdout",
     "output_type": "stream",
     "text": [
      "Fitting 5 folds for each of 12 candidates, totalling 60 fits\n",
      "Best params: {'clf__max_depth': None, 'clf__min_samples_split': 2, 'clf__n_estimators': 500}\n",
      "Validation AUC: 0.9870\n"
     ]
    }
   ],
   "source": [
    "param_grid = {\n",
    "    \"clf__n_estimators\": [200, 500],\n",
    "    \"clf__max_depth\": [None, 5, 10],\n",
    "    \"clf__min_samples_split\": [2, 4],\n",
    "}\n",
    "\n",
    "gscv = GridSearchCV(\n",
    "    pipe, param_grid, cv=5, scoring=\"roc_auc\", n_jobs=-1, verbose=1\n",
    ")\n",
    "gscv.fit(X_tr, y_tr)\n",
    "\n",
    "best_model = gscv.best_estimator_\n",
    "print(\"Best params:\", gscv.best_params_)\n",
    "print(f\"Validation AUC: {gscv.best_score_:.4f}\")\n"
   ]
  },
  {
   "cell_type": "code",
   "execution_count": null,
   "id": "0735903e-cb86-4265-9d50-200bfa016dd5",
   "metadata": {},
   "outputs": [],
   "source": [
    "#Evaluate on held‑out test set"
   ]
  },
  {
   "cell_type": "code",
   "execution_count": 17,
   "id": "457ee092-eb43-4b1c-97a5-7b05ba76369f",
   "metadata": {},
   "outputs": [
    {
     "name": "stdout",
     "output_type": "stream",
     "text": [
      "\n",
      "Test Classification Report:\n",
      "              precision    recall  f1-score   support\n",
      "\n",
      "      Benign       0.95      1.00      0.97        54\n",
      "   Malignant       1.00      0.91      0.95        32\n",
      "\n",
      "    accuracy                           0.97        86\n",
      "   macro avg       0.97      0.95      0.96        86\n",
      "weighted avg       0.97      0.97      0.96        86\n",
      "\n",
      "{'acc': 0.9651162790697675, 'prec': 1.0, 'rec': 0.90625, 'f1': 0.9508196721311475, 'auc': 0.998263888888889}\n"
     ]
    }
   ],
   "source": [
    "def report(model, X, y, tag=\"Test\"):\n",
    "    y_pred = model.predict(X)\n",
    "    y_prob = model.predict_proba(X)[:, 1]\n",
    "    print(f\"\\n{tag} Classification Report:\")\n",
    "    print(classification_report(y, y_pred,\n",
    "                                target_names=[\"Benign\", \"Malignant\"]))\n",
    "    acc = accuracy_score(y, y_pred)\n",
    "    prec, rec, f1, _ = precision_recall_fscore_support(y, y_pred,\n",
    "                                                       average=\"binary\")\n",
    "    auc = roc_auc_score(y, y_prob)\n",
    "    return dict(acc=acc, prec=prec, rec=rec, f1=f1, auc=auc)\n",
    "\n",
    "metrics = report(best_model, X_te, y_te)\n",
    "print(metrics)\n"
   ]
  },
  {
   "cell_type": "code",
   "execution_count": null,
   "id": "d8df5b1b-d872-4d10-b262-f68001722862",
   "metadata": {},
   "outputs": [],
   "source": [
    "#Visualise confusion matrix & ROC curve"
   ]
  },
  {
   "cell_type": "code",
   "execution_count": 12,
   "id": "fe7a4d7e-e84f-4734-8168-68eb35c3e524",
   "metadata": {},
   "outputs": [
    {
     "data": {
      "image/png": "[encoded data removed]",
      "text/plain": [
       "<Figure size 640x480 with 2 Axes>"
      ]
     },
     "metadata": {},
     "output_type": "display_data"
    },
    {
     "data": {
      "image/png": "[encoded data removed]",
      "text/plain": [
       "<Figure size 640x480 with 1 Axes>"
      ]
     },
     "metadata": {},
     "output_type": "display_data"
    }
   ],
   "source": [
    "ConfusionMatrixDisplay.from_estimator(\n",
    "    best_model, X_te, y_te,\n",
    "    display_labels=[\"Benign\", \"Malignant\"], cmap=\"Blues\"\n",
    ")\n",
    "plt.title(\"Confusion Matrix – Test\")\n",
    "plt.show()\n",
    "\n",
    "RocCurveDisplay.from_estimator(best_model, X_te, y_te)\n",
    "plt.title(\"ROC Curve – Test\")\n",
    "plt.show()\n"
   ]
  },
  {
   "cell_type": "code",
   "execution_count": null,
   "id": "81a80184-3a23-4506-9057-5d018aa1c7f5",
   "metadata": {},
   "outputs": [],
   "source": [
    "#SHAP feature importance"
   ]
  },
  {
   "cell_type": "code",
   "execution_count": 14,
   "id": "07e22f00-c929-40ac-bc61-78940dfb78d0",
   "metadata": {},
   "outputs": [
    {
     "data": {
      "text/plain": [
       "<Figure size 640x480 with 0 Axes>"
      ]
     },
     "metadata": {},
     "output_type": "display_data"
    },
    {
     "data": {
      "image/png": "[encoded data removed]",
      "text/plain": [
       "<Figure size 2350x1300 with 1 Axes>"
      ]
     },
     "metadata": {},
     "output_type": "display_data"
    }
   ],
   "source": [
    "try:\n",
    "    import shap\n",
    "\n",
    "    sample_size = min(100, len(X_te))\n",
    "    sample_data = X_te.sample(sample_size, random_state=RANDOM_SEED)\n",
    "\n",
    "    explainer = shap.Explainer(best_model.named_steps[\"clf\"])\n",
    "    shap_values = explainer(\n",
    "        best_model.named_steps[\"pre\"].transform(sample_data)\n",
    "    )\n",
    "    shap.summary_plot(shap_values, sample_data, max_display=15)\n",
    "except ImportError:\n",
    "    print(\"Install SHAP to see feature‑importance plots (pip install shap)\")\n"
   ]
  },
  {
   "cell_type": "code",
   "execution_count": 15,
   "id": "5b842b6c-8d21-48e8-9106-af86afba5a2b",
   "metadata": {},
   "outputs": [
    {
     "name": "stdout",
     "output_type": "stream",
     "text": [
      "Model saved to artifacts\\best_model.joblib\n"
     ]
    }
   ],
   "source": [
    "model_path = ARTIFACTS_DIR / \"best_model.joblib\"\n",
    "joblib.dump(best_model, model_path)\n",
    "print(\"Model saved to\", model_path)\n"
   ]
  },
  {
   "cell_type": "code",
   "execution_count": 16,
   "id": "94f219a0-6a55-429d-aeb5-2fd262bd9d93",
   "metadata": {},
   "outputs": [
    {
     "name": "stdout",
     "output_type": "stream",
     "text": [
      "Prediction: Benign (prob=0.40%)\n"
     ]
    },
    {
     "name": "stderr",
     "output_type": "stream",
     "text": [
      "C:\\ProgramData\\anaconda3\\Lib\\site-packages\\sklearn\\base.py:493: UserWarning: X does not have valid feature names, but StandardScaler was fitted with feature names\n",
      "  warnings.warn(\n"
     ]
    }
   ],
   "source": [
    "# Example: use first test row\n",
    "sample = X_te.iloc[0].to_list()\n",
    "prob = best_model.predict_proba([sample])[0, 1]\n",
    "pred = \"Malignant\" if prob >= 0.5 else \"Benign\"\n",
    "print(f\"Prediction: {pred} (prob={prob:.2%})\")\n"
   ]
  },
  {
   "cell_type": "code",
   "execution_count": null,
   "id": "7d33aa52-21c8-4cf9-bf0e-6ffe19cd9ff0",
   "metadata": {},
   "outputs": [],
   "source": []
  }
 ],
 "metadata": {
  "kernelspec": {
   "display_name": "Python 3 (ipykernel)",
   "language": "python",
   "name": "python3"
  },
  "language_info": {
   "codemirror_mode": {
    "name": "ipython",
    "version": 3
   },
   "file_extension": ".py",
   "mimetype": "text/x-python",
   "name": "python",
   "nbconvert_exporter": "python",
   "pygments_lexer": "ipython3",
   "version": "3.12.7"
  }
 },
 "nbformat": 4,
 "nbformat_minor": 5
}
